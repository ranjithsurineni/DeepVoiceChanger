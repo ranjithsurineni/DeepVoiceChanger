{
 "cells": [
  {
   "cell_type": "code",
   "execution_count": 9,
   "metadata": {},
   "outputs": [
    {
     "name": "stderr",
     "output_type": "stream",
     "text": [
      "C:\\Users\\LENOVO\\AppData\\Local\\Temp\\ipykernel_12348\\2089322913.py:22: FutureWarning: You are using `torch.load` with `weights_only=False` (the current default value), which uses the default pickle module implicitly. It is possible to construct malicious pickle data which will execute arbitrary code during unpickling (See https://github.com/pytorch/pytorch/blob/main/SECURITY.md#untrusted-models for more details). In a future release, the default value for `weights_only` will be flipped to `True`. This limits the functions that could be executed during unpickling. Arbitrary objects will no longer be allowed to be loaded via this mode unless they are explicitly allowlisted by the user via `torch.serialization.add_safe_globals`. We recommend you start setting `weights_only=True` for any use case where you don't have full control of the loaded file. Please open an issue on GitHub for any issues related to this experimental feature.\n",
      "  model.load_state_dict(torch.load(model_path))\n"
     ]
    },
    {
     "name": "stdout",
     "output_type": "stream",
     "text": [
      "✅ Model loaded successfully!\n",
      "Loaded Test Features Shape: (13, 222)\n",
      "⚠️ Feature mismatch detected! Fixing dimensions...\n",
      "✅ Fixed Test Features Shape: torch.Size([1, 13, 13])\n",
      "✅ Voice conversion completed!\n",
      "✅ Converted voice saved at: D:\\projects\\voice_conversion\\results\\LJ001-0004_converted_audio.wav\n"
     ]
    }
   ],
   "source": [
    "import torch\n",
    "import torch.nn as nn\n",
    "import numpy as np\n",
    "import librosa\n",
    "import soundfile as sf\n",
    "import os\n",
    "\n",
    "# ✅ Define the SAME model as in training\n",
    "class VoiceConversionModel(nn.Module):\n",
    "    def __init__(self, input_dim=13, hidden_dim=128):\n",
    "        super(VoiceConversionModel, self).__init__()\n",
    "        self.lstm = nn.LSTM(input_dim, hidden_dim, batch_first=True)\n",
    "        self.fc = nn.Linear(hidden_dim, input_dim)\n",
    "\n",
    "    def forward(self, x):\n",
    "        x, _ = self.lstm(x)\n",
    "        return self.fc(x)\n",
    "\n",
    "# ✅ Load trained model\n",
    "model_path = \"D:\\\\projects\\\\voice_conversion\\\\models\\\\voice_conversion.pth\"\n",
    "model = VoiceConversionModel()\n",
    "model.load_state_dict(torch.load(model_path))\n",
    "model.eval()\n",
    "\n",
    "print(\"✅ Model loaded successfully!\")\n",
    "\n",
    "# ✅ Load input features\n",
    "test_file = \"D:\\\\projects\\\\voice_conversion\\\\data\\\\features\\\\LJ001-0004_features.npy\"\n",
    "\n",
    "if not os.path.exists(test_file):\n",
    "    raise FileNotFoundError(f\"Test file not found: {test_file}\")\n",
    "\n",
    "test_features = np.load(test_file)\n",
    "print(\"Loaded Test Features Shape:\", test_features.shape)  # Debugging\n",
    "\n",
    "# ✅ Fix Dimension Issue (Ensure it has 13 features per frame)\n",
    "if test_features.shape[-1] != 13:\n",
    "    print(\"⚠️ Feature mismatch detected! Fixing dimensions...\")\n",
    "    test_features = test_features[:, :13]  # Take only the first 13 features\n",
    "\n",
    "test_features = torch.tensor(test_features, dtype=torch.float32).unsqueeze(0)\n",
    "\n",
    "print(\"✅ Fixed Test Features Shape:\", test_features.shape)\n",
    "\n",
    "# ✅ Run the model\n",
    "with torch.no_grad():\n",
    "    converted_features = model(test_features)\n",
    "\n",
    "converted_features = converted_features.squeeze(0).numpy()\n",
    "\n",
    "print(\"✅ Voice conversion completed!\")\n",
    "\n",
    "# ✅ Convert back to audio\n",
    "mel_spectrogram = librosa.feature.inverse.mel_to_stft(converted_features.T)\n",
    "waveform = librosa.griffinlim(mel_spectrogram)\n",
    "\n",
    "# ✅ Save output\n",
    "output_wav_path = \"D:\\\\projects\\\\voice_conversion\\\\results\\\\LJ001-0004_converted_audio.wav\"\n",
    "sf.write(output_wav_path, waveform, samplerate=22050)\n",
    "\n",
    "print(f\"✅ Converted voice saved at: {output_wav_path}\")\n"
   ]
  },
  {
   "cell_type": "code",
   "execution_count": null,
   "metadata": {},
   "outputs": [],
   "source": []
  }
 ],
 "metadata": {
  "kernelspec": {
   "display_name": "voice",
   "language": "python",
   "name": "python3"
  },
  "language_info": {
   "codemirror_mode": {
    "name": "ipython",
    "version": 3
   },
   "file_extension": ".py",
   "mimetype": "text/x-python",
   "name": "python",
   "nbconvert_exporter": "python",
   "pygments_lexer": "ipython3",
   "version": "3.8.8"
  }
 },
 "nbformat": 4,
 "nbformat_minor": 2
}
