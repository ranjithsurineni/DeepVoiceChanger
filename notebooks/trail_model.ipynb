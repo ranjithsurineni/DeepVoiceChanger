{
 "cells": [
  {
   "cell_type": "code",
   "execution_count": 2,
   "metadata": {},
   "outputs": [
    {
     "name": "stdout",
     "output_type": "stream",
     "text": [
      "Feature Shape: (13, 416)\n"
     ]
    }
   ],
   "source": [
    "import numpy as np\n",
    "sample_file = \"D:\\\\projects\\\\voice_conversion\\\\data\\\\features\\\\LJ001-0001_features.npy\"\n",
    "features = np.load(sample_file)\n",
    "print(\"Feature Shape:\", features.shape)"
   ]
  },
  {
   "cell_type": "code",
   "execution_count": null,
   "metadata": {},
   "outputs": [
    {
     "name": "stdout",
     "output_type": "stream",
     "text": [
      "🔍 Maximum sequence length: 13\n"
     ]
    }
   ],
   "source": [
    "#Find your max MFCC length\n",
    "import numpy as np\n",
    "import os\n",
    "\n",
    "data_dir = \"D:\\\\projects\\\\voice_conversion\\\\data\\\\features\\\\\"\n",
    "max_len = 0\n",
    "\n",
    "for file in os.listdir(data_dir):\n",
    "    if file.endswith(\"_features.npy\"):\n",
    "        mfcc = np.load(os.path.join(data_dir, file))\n",
    "        max_len = max(max_len, mfcc.shape[0])  # Update max length\n",
    "\n",
    "print(f\"🔍 Maximum sequence length: {max_len}\")\n"
   ]
  },
  {
   "cell_type": "code",
   "execution_count": null,
   "metadata": {},
   "outputs": [],
   "source": [
    "#Modify your VoiceDataset class to pad all sequences to this max length.\n",
    "\n",
    "\n",
    "import torch\n",
    "from torch.nn.utils.rnn import pad_sequence\n",
    "\n",
    "class VoiceDataset(Dataset):\n",
    "    \"\"\"Loads MFCC features from .npy files and pads sequences\"\"\"\n",
    "    def __init__(self, data_dir, max_len):\n",
    "        self.files = [os.path.join(data_dir, f) for f in os.listdir(data_dir) if f.endswith(\"_features.npy\")]\n",
    "        self.max_len = max_len\n",
    "\n",
    "    def __len__(self):\n",
    "        return len(self.files)\n",
    "\n",
    "    def __getitem__(self, idx):\n",
    "        data = np.load(self.files[idx])  # Shape: (time_frames, 13)\n",
    "        pad_size = self.max_len - data.shape[0]\n",
    "\n",
    "        # Pad the sequence with zeros if it's shorter than max_len\n",
    "        if pad_size > 0:\n",
    "            data = np.pad(data, ((0, pad_size), (0, 0)), mode='constant')\n",
    "\n",
    "        return torch.tensor(data, dtype=torch.float32)\n",
    "\n",
    "# Set max_len from step 1\n",
    "max_len = 13  # (Example value, replace with your actual max_len)\n",
    "dataset = VoiceDataset(\"D:\\\\projects\\\\voice_conversion\\\\data\\\\features\\\\\", max_len)\n",
    "dataloader = DataLoader(dataset, batch_size=16, shuffle=True)\n"
   ]
  },
  {
   "cell_type": "code",
   "execution_count": null,
   "metadata": {},
   "outputs": [],
   "source": [
    "#Modify Dataset \n",
    "\n",
    "import torch\n",
    "from torch.utils.data import Dataset, DataLoader\n",
    "import numpy as np\n",
    "import os\n",
    "\n",
    "class VoiceDataset(Dataset):\n",
    "    \"\"\"Loads MFCC features from .npy files without padding\"\"\"\n",
    "    def __init__(self, data_dir):\n",
    "        self.files = [os.path.join(data_dir, f) for f in os.listdir(data_dir) if f.endswith(\"_features.npy\")]\n",
    "\n",
    "    def __len__(self):\n",
    "        return len(self.files)\n",
    "\n",
    "    def __getitem__(self, idx):\n",
    "        data = np.load(self.files[idx])  # Shape: (time_frames, 13)\n",
    "        return torch.tensor(data, dtype=torch.float32)\n",
    "\n"
   ]
  },
  {
   "cell_type": "code",
   "execution_count": null,
   "metadata": {},
   "outputs": [],
   "source": [
    "# Modify your collate_fn to pad along the second dimension (time frames)\n",
    "# instead of the first dimension (features):\n",
    "from torch.nn.utils.rnn import pad_sequence\n",
    "\n",
    "def collate_fn(batch):\n",
    "    \"\"\"\n",
    "    Custom collate function to pad sequences along the time dimension.\n",
    "    \"\"\"\n",
    "    # Convert list of tensors to a list\n",
    "    batch = [x.T for x in batch]  # Transpose to shape (Time Frames, 13)\n",
    "\n",
    "    # Pad sequences along time frames to match the longest sequence in the batch\n",
    "    batch_padded = pad_sequence(batch, batch_first=True, padding_value=0)\n",
    "\n",
    "    # Transpose back to shape (Batch, 13, Time Frames)\n",
    "    return batch_padded.permute(0, 2, 1)\n"
   ]
  },
  {
   "cell_type": "code",
   "execution_count": 13,
   "metadata": {},
   "outputs": [],
   "source": [
    "dataset = VoiceDataset(\"D:\\\\projects\\\\voice_conversion\\\\data\\\\features\\\\\")\n",
    "dataloader = DataLoader(dataset, batch_size=16, shuffle=True, collate_fn=collate_fn)\n"
   ]
  },
  {
   "cell_type": "code",
   "execution_count": 14,
   "metadata": {},
   "outputs": [],
   "source": [
    "class VoiceConversionModel(nn.Module):\n",
    "    \"\"\"Neural network for voice conversion with dynamic sequence length\"\"\"\n",
    "    def __init__(self, input_dim=13, hidden_dim=128):\n",
    "        super(VoiceConversionModel, self).__init__()\n",
    "        self.lstm = nn.LSTM(input_dim, hidden_dim, batch_first=True)\n",
    "        self.fc = nn.Linear(hidden_dim, input_dim)  # Output same feature dimension\n",
    "\n",
    "    def forward(self, x):\n",
    "        x, _ = self.lstm(x)  # LSTM for sequence modeling\n",
    "        return self.fc(x)  # Apply fully connected layer\n"
   ]
  },
  {
   "cell_type": "code",
   "execution_count": 16,
   "metadata": {},
   "outputs": [
    {
     "name": "stdout",
     "output_type": "stream",
     "text": [
      "Epoch 1, Loss: 15225.76171875\n",
      "Epoch 2, Loss: 11782.896484375\n",
      "Epoch 3, Loss: 10468.3388671875\n",
      "Epoch 4, Loss: 7459.92919921875\n",
      "Epoch 5, Loss: 5485.767578125\n",
      "Epoch 6, Loss: 3637.851806640625\n",
      "Epoch 7, Loss: 2971.788818359375\n",
      "Epoch 8, Loss: 2276.29150390625\n",
      "Epoch 9, Loss: 1435.498779296875\n",
      "Epoch 10, Loss: 1084.8226318359375\n",
      "✅ Model training completed! Model saved.\n"
     ]
    }
   ],
   "source": [
    "model = VoiceConversionModel()\n",
    "optimizer = torch.optim.Adam(model.parameters(), lr=0.001)\n",
    "loss_fn = nn.MSELoss()\n",
    "\n",
    "for epoch in range(10):\n",
    "    for batch in dataloader:\n",
    "        batch = batch.permute(0, 2, 1)  # Reshape input for model\n",
    "        \n",
    "        optimizer.zero_grad()\n",
    "        output = model(batch)\n",
    "        loss = loss_fn(output, batch)\n",
    "        loss.backward()\n",
    "        optimizer.step()\n",
    "    print(f\"Epoch {epoch+1}, Loss: {loss.item()}\")\n",
    "\n",
    "# Save model\n",
    "torch.save(model.state_dict(), \"D:\\\\projects\\\\voice_conversion\\\\models\\\\voice_conversion.pth\")\n",
    "print(\"✅ Model training completed! Model saved.\")\n"
   ]
  },
  {
   "cell_type": "code",
   "execution_count": null,
   "metadata": {},
   "outputs": [],
   "source": []
  }
 ],
 "metadata": {
  "kernelspec": {
   "display_name": "voice",
   "language": "python",
   "name": "python3"
  },
  "language_info": {
   "codemirror_mode": {
    "name": "ipython",
    "version": 3
   },
   "file_extension": ".py",
   "mimetype": "text/x-python",
   "name": "python",
   "nbconvert_exporter": "python",
   "pygments_lexer": "ipython3",
   "version": "3.8.8"
  }
 },
 "nbformat": 4,
 "nbformat_minor": 2
}
